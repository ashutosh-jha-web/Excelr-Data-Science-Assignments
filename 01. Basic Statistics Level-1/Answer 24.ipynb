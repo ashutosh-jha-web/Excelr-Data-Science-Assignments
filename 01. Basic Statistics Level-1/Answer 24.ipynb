{
 "cells": [
  {
   "cell_type": "code",
   "execution_count": 3,
   "metadata": {},
   "outputs": [],
   "source": [
    "from scipy import stats\n",
    "from scipy.stats import norm"
   ]
  },
  {
   "cell_type": "markdown",
   "metadata": {},
   "source": [
    "Pop mean =270 days Sample mean = 260 days Sample SD = 90 days Sample n = 18 bulbs df = n-1 = 17"
   ]
  },
  {
   "cell_type": "code",
   "execution_count": null,
   "metadata": {},
   "outputs": [],
   "source": [
    "# Assume Null Hypothesis is: Ho = Avg life of Bulb >= 260 days\n",
    "# Alternate Hypothesis is: Ha = Avg life of Bulb < 260 days"
   ]
  },
  {
   "cell_type": "code",
   "execution_count": 4,
   "metadata": {},
   "outputs": [
    {
     "data": {
      "text/plain": [
       "-0.4714045207910317"
      ]
     },
     "execution_count": 4,
     "metadata": {},
     "output_type": "execute_result"
    }
   ],
   "source": [
    "# find t-scores at x=260; t=(s_mean-P_mean)/(s_SD/sqrt(n))\n",
    "t=(260-270)/(90/18**0.5)\n",
    "t"
   ]
  },
  {
   "cell_type": "markdown",
   "metadata": {},
   "source": [
    "Let's find P(X>=260) for null hypothesis"
   ]
  },
  {
   "cell_type": "code",
   "execution_count": 5,
   "metadata": {},
   "outputs": [
    {
     "data": {
      "text/plain": [
       "0.32167411684460556"
      ]
     },
     "execution_count": 5,
     "metadata": {},
     "output_type": "execute_result"
    }
   ],
   "source": [
    "# p_value=1-stats.t.cdf(abs(t_scores),df=n-1)... Using cdf function\n",
    "p_value=1-stats.t.cdf(abs(-0.4714),df=17)\n",
    "p_value"
   ]
  },
  {
   "cell_type": "code",
   "execution_count": 6,
   "metadata": {},
   "outputs": [
    {
     "data": {
      "text/plain": [
       "0.32167411684460556"
      ]
     },
     "execution_count": 6,
     "metadata": {},
     "output_type": "execute_result"
    }
   ],
   "source": [
    "#  OR p_value=stats.t.sf(abs(t_score),df=n-1)... Using sf function\n",
    "p_value=stats.t.sf(abs(-0.4714),df=17)\n",
    "p_value"
   ]
  },
  {
   "cell_type": "markdown",
   "metadata": {},
   "source": [
    "Therefore, probability that 18 randomly selected bulbs would have an average life of no more than 260 days is 32.17%.Assuming significance value α = 0.05 .Thus, as p-value > α ; Accept Ho i.e. The CEO claims are false and the avg life of bulb > 260 days"
   ]
  }
 ],
 "metadata": {
  "kernelspec": {
   "display_name": "Python 3",
   "language": "python",
   "name": "python3"
  },
  "language_info": {
   "codemirror_mode": {
    "name": "ipython",
    "version": 3
   },
   "file_extension": ".py",
   "mimetype": "text/x-python",
   "name": "python",
   "nbconvert_exporter": "python",
   "pygments_lexer": "ipython3",
   "version": "3.8.3"
  }
 },
 "nbformat": 4,
 "nbformat_minor": 4
}
